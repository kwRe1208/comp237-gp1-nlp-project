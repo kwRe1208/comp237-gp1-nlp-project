{
 "cells": [
  {
   "cell_type": "code",
   "execution_count": 1,
   "metadata": {},
   "outputs": [],
   "source": [
    "import pandas as pd\n",
    "\n",
    "#Assigning the data file to a variable\n",
    "file_path = r\"C:\\git\\comp237-gp1-nlp-project\\dataset\\Youtube05-Shakira.csv\"\n",
    "\n",
    "# Replace 'file_path' with the actual path to your data file\n",
    "df = pd.read_csv(file_path)\n"
   ]
  },
  {
   "cell_type": "code",
   "execution_count": 2,
   "metadata": {},
   "outputs": [
    {
     "data": {
      "text/html": [
       "<div>\n",
       "<style scoped>\n",
       "    .dataframe tbody tr th:only-of-type {\n",
       "        vertical-align: middle;\n",
       "    }\n",
       "\n",
       "    .dataframe tbody tr th {\n",
       "        vertical-align: top;\n",
       "    }\n",
       "\n",
       "    .dataframe thead th {\n",
       "        text-align: right;\n",
       "    }\n",
       "</style>\n",
       "<table border=\"1\" class=\"dataframe\">\n",
       "  <thead>\n",
       "    <tr style=\"text-align: right;\">\n",
       "      <th></th>\n",
       "      <th>COMMENT_ID</th>\n",
       "      <th>AUTHOR</th>\n",
       "      <th>DATE</th>\n",
       "      <th>CONTENT</th>\n",
       "      <th>CLASS</th>\n",
       "    </tr>\n",
       "  </thead>\n",
       "  <tbody>\n",
       "    <tr>\n",
       "      <th>0</th>\n",
       "      <td>z13lgffb5w3ddx1ul22qy1wxspy5cpkz504</td>\n",
       "      <td>dharma pal</td>\n",
       "      <td>2015-05-29T02:30:18.971000</td>\n",
       "      <td>Nice song﻿</td>\n",
       "      <td>0</td>\n",
       "    </tr>\n",
       "    <tr>\n",
       "      <th>1</th>\n",
       "      <td>z123dbgb0mqjfxbtz22ucjc5jvzcv3ykj</td>\n",
       "      <td>Tiza Arellano</td>\n",
       "      <td>2015-05-29T00:14:48.748000</td>\n",
       "      <td>I love song ﻿</td>\n",
       "      <td>0</td>\n",
       "    </tr>\n",
       "    <tr>\n",
       "      <th>2</th>\n",
       "      <td>z12quxxp2vutflkxv04cihggzt2azl34pms0k</td>\n",
       "      <td>Prìñçeśś Âliś Łøvê Dømíñø Mâđiś™ ﻿</td>\n",
       "      <td>2015-05-28T21:00:08.607000</td>\n",
       "      <td>I love song ﻿</td>\n",
       "      <td>0</td>\n",
       "    </tr>\n",
       "    <tr>\n",
       "      <th>3</th>\n",
       "      <td>z12icv3ysqvlwth2c23eddlykyqut5z1h</td>\n",
       "      <td>Eric Gonzalez</td>\n",
       "      <td>2015-05-28T20:47:12.193000</td>\n",
       "      <td>860,000,000 lets make it first female to reach...</td>\n",
       "      <td>0</td>\n",
       "    </tr>\n",
       "    <tr>\n",
       "      <th>4</th>\n",
       "      <td>z133stly3kete3tly22petvwdpmghrlli</td>\n",
       "      <td>Analena López</td>\n",
       "      <td>2015-05-28T17:08:29.827000</td>\n",
       "      <td>shakira is best for worldcup﻿</td>\n",
       "      <td>0</td>\n",
       "    </tr>\n",
       "  </tbody>\n",
       "</table>\n",
       "</div>"
      ],
      "text/plain": [
       "                              COMMENT_ID                              AUTHOR  \\\n",
       "0    z13lgffb5w3ddx1ul22qy1wxspy5cpkz504                          dharma pal   \n",
       "1      z123dbgb0mqjfxbtz22ucjc5jvzcv3ykj                       Tiza Arellano   \n",
       "2  z12quxxp2vutflkxv04cihggzt2azl34pms0k  Prìñçeśś Âliś Łøvê Dømíñø Mâđiś™ ﻿   \n",
       "3      z12icv3ysqvlwth2c23eddlykyqut5z1h                       Eric Gonzalez   \n",
       "4      z133stly3kete3tly22petvwdpmghrlli                       Analena López   \n",
       "\n",
       "                         DATE  \\\n",
       "0  2015-05-29T02:30:18.971000   \n",
       "1  2015-05-29T00:14:48.748000   \n",
       "2  2015-05-28T21:00:08.607000   \n",
       "3  2015-05-28T20:47:12.193000   \n",
       "4  2015-05-28T17:08:29.827000   \n",
       "\n",
       "                                             CONTENT  CLASS  \n",
       "0                                         Nice song﻿      0  \n",
       "1                                      I love song ﻿      0  \n",
       "2                                      I love song ﻿      0  \n",
       "3  860,000,000 lets make it first female to reach...      0  \n",
       "4                      shakira is best for worldcup﻿      0  "
      ]
     },
     "execution_count": 2,
     "metadata": {},
     "output_type": "execute_result"
    }
   ],
   "source": [
    "#Displaying the first 5 rows of the data to see what it looks like\n",
    "df.head(5)"
   ]
  },
  {
   "cell_type": "code",
   "execution_count": 3,
   "metadata": {},
   "outputs": [
    {
     "name": "stdout",
     "output_type": "stream",
     "text": [
      "<class 'pandas.core.frame.DataFrame'>\n",
      "RangeIndex: 370 entries, 0 to 369\n",
      "Data columns (total 5 columns):\n",
      " #   Column      Non-Null Count  Dtype \n",
      "---  ------      --------------  ----- \n",
      " 0   COMMENT_ID  370 non-null    object\n",
      " 1   AUTHOR      370 non-null    object\n",
      " 2   DATE        370 non-null    object\n",
      " 3   CONTENT     370 non-null    object\n",
      " 4   CLASS       370 non-null    int64 \n",
      "dtypes: int64(1), object(4)\n",
      "memory usage: 14.6+ KB\n"
     ]
    }
   ],
   "source": [
    "#Confirming the data type of each column and no missing values\n",
    "df.info()"
   ]
  },
  {
   "cell_type": "code",
   "execution_count": 4,
   "metadata": {},
   "outputs": [],
   "source": [
    "#After reading the data file, we can determine that only the 'CONTENT' and 'CLASS' columns are needed for the analysis.\n",
    "#We can drop the other columns using the drop() method.\n",
    "df_filtered = df.drop(['COMMENT_ID', 'AUTHOR', 'DATE'], axis=1)"
   ]
  },
  {
   "cell_type": "code",
   "execution_count": 5,
   "metadata": {},
   "outputs": [
    {
     "data": {
      "text/plain": [
       "array([0, 1], dtype=int64)"
      ]
     },
     "execution_count": 5,
     "metadata": {},
     "output_type": "execute_result"
    }
   ],
   "source": [
    "#find How many labels of CLASS column\n",
    "df_filtered['CLASS'].unique()"
   ]
  },
  {
   "cell_type": "code",
   "execution_count": 6,
   "metadata": {},
   "outputs": [
    {
     "data": {
      "text/html": [
       "<div>\n",
       "<style scoped>\n",
       "    .dataframe tbody tr th:only-of-type {\n",
       "        vertical-align: middle;\n",
       "    }\n",
       "\n",
       "    .dataframe tbody tr th {\n",
       "        vertical-align: top;\n",
       "    }\n",
       "\n",
       "    .dataframe thead th {\n",
       "        text-align: right;\n",
       "    }\n",
       "</style>\n",
       "<table border=\"1\" class=\"dataframe\">\n",
       "  <thead>\n",
       "    <tr style=\"text-align: right;\">\n",
       "      <th></th>\n",
       "      <th>CONTENT</th>\n",
       "      <th>CLASS</th>\n",
       "    </tr>\n",
       "  </thead>\n",
       "  <tbody>\n",
       "    <tr>\n",
       "      <th>7</th>\n",
       "      <td>SEE SOME MORE SONG OPEN GOOGLE AND TYPE Shakir...</td>\n",
       "      <td>1</td>\n",
       "    </tr>\n",
       "    <tr>\n",
       "      <th>22</th>\n",
       "      <td>Check out this playlist on YouTube:﻿</td>\n",
       "      <td>1</td>\n",
       "    </tr>\n",
       "    <tr>\n",
       "      <th>31</th>\n",
       "      <td>Support the fight for your 4th amendment right...</td>\n",
       "      <td>1</td>\n",
       "    </tr>\n",
       "    <tr>\n",
       "      <th>36</th>\n",
       "      <td>Check out this video on YouTube:﻿</td>\n",
       "      <td>1</td>\n",
       "    </tr>\n",
       "    <tr>\n",
       "      <th>51</th>\n",
       "      <td>coby this USL and past :&lt;br /&gt;&lt;a href=\"http://...</td>\n",
       "      <td>1</td>\n",
       "    </tr>\n",
       "  </tbody>\n",
       "</table>\n",
       "</div>"
      ],
      "text/plain": [
       "                                              CONTENT  CLASS\n",
       "7   SEE SOME MORE SONG OPEN GOOGLE AND TYPE Shakir...      1\n",
       "22               Check out this playlist on YouTube:﻿      1\n",
       "31  Support the fight for your 4th amendment right...      1\n",
       "36                  Check out this video on YouTube:﻿      1\n",
       "51  coby this USL and past :<br /><a href=\"http://...      1"
      ]
     },
     "execution_count": 6,
     "metadata": {},
     "output_type": "execute_result"
    }
   ],
   "source": [
    "# View data with CLASS = 1\n",
    "df_filtered[df_filtered['CLASS'] == 1].head(5)"
   ]
  },
  {
   "cell_type": "code",
   "execution_count": 7,
   "metadata": {},
   "outputs": [
    {
     "data": {
      "text/html": [
       "<div>\n",
       "<style scoped>\n",
       "    .dataframe tbody tr th:only-of-type {\n",
       "        vertical-align: middle;\n",
       "    }\n",
       "\n",
       "    .dataframe tbody tr th {\n",
       "        vertical-align: top;\n",
       "    }\n",
       "\n",
       "    .dataframe thead th {\n",
       "        text-align: right;\n",
       "    }\n",
       "</style>\n",
       "<table border=\"1\" class=\"dataframe\">\n",
       "  <thead>\n",
       "    <tr style=\"text-align: right;\">\n",
       "      <th></th>\n",
       "      <th>CONTENT</th>\n",
       "      <th>CLASS</th>\n",
       "    </tr>\n",
       "  </thead>\n",
       "  <tbody>\n",
       "    <tr>\n",
       "      <th>0</th>\n",
       "      <td>Nice song﻿</td>\n",
       "      <td>0</td>\n",
       "    </tr>\n",
       "    <tr>\n",
       "      <th>1</th>\n",
       "      <td>I love song ﻿</td>\n",
       "      <td>0</td>\n",
       "    </tr>\n",
       "    <tr>\n",
       "      <th>2</th>\n",
       "      <td>I love song ﻿</td>\n",
       "      <td>0</td>\n",
       "    </tr>\n",
       "    <tr>\n",
       "      <th>3</th>\n",
       "      <td>860,000,000 lets make it first female to reach...</td>\n",
       "      <td>0</td>\n",
       "    </tr>\n",
       "    <tr>\n",
       "      <th>4</th>\n",
       "      <td>shakira is best for worldcup﻿</td>\n",
       "      <td>0</td>\n",
       "    </tr>\n",
       "  </tbody>\n",
       "</table>\n",
       "</div>"
      ],
      "text/plain": [
       "                                             CONTENT  CLASS\n",
       "0                                         Nice song﻿      0\n",
       "1                                      I love song ﻿      0\n",
       "2                                      I love song ﻿      0\n",
       "3  860,000,000 lets make it first female to reach...      0\n",
       "4                      shakira is best for worldcup﻿      0"
      ]
     },
     "execution_count": 7,
     "metadata": {},
     "output_type": "execute_result"
    }
   ],
   "source": [
    "# View data with CLASS = 0\n",
    "df_filtered[df_filtered['CLASS'] == 0].head(5)"
   ]
  },
  {
   "cell_type": "markdown",
   "metadata": {},
   "source": [
    "From above data, we can determine CLASS labeled with 1 is Spam, 0 is non-spam."
   ]
  },
  {
   "cell_type": "code",
   "execution_count": 8,
   "metadata": {},
   "outputs": [
    {
     "data": {
      "text/html": [
       "<div>\n",
       "<style scoped>\n",
       "    .dataframe tbody tr th:only-of-type {\n",
       "        vertical-align: middle;\n",
       "    }\n",
       "\n",
       "    .dataframe tbody tr th {\n",
       "        vertical-align: top;\n",
       "    }\n",
       "\n",
       "    .dataframe thead th {\n",
       "        text-align: right;\n",
       "    }\n",
       "</style>\n",
       "<table border=\"1\" class=\"dataframe\">\n",
       "  <thead>\n",
       "    <tr style=\"text-align: right;\">\n",
       "      <th></th>\n",
       "      <th>CONTENT</th>\n",
       "      <th>CLASS</th>\n",
       "    </tr>\n",
       "  </thead>\n",
       "  <tbody>\n",
       "    <tr>\n",
       "      <th>240</th>\n",
       "      <td>Shakira I love you</td>\n",
       "      <td>0</td>\n",
       "    </tr>\n",
       "    <tr>\n",
       "      <th>357</th>\n",
       "      <td>********OMG Facebook is OLD! Check out  ------...</td>\n",
       "      <td>1</td>\n",
       "    </tr>\n",
       "    <tr>\n",
       "      <th>319</th>\n",
       "      <td>Hey guys and girls check out Comedy Recipe for...</td>\n",
       "      <td>1</td>\n",
       "    </tr>\n",
       "    <tr>\n",
       "      <th>38</th>\n",
       "      <td>Love this song! My soccer team made a cd for o...</td>\n",
       "      <td>0</td>\n",
       "    </tr>\n",
       "  </tbody>\n",
       "</table>\n",
       "</div>"
      ],
      "text/plain": [
       "                                               CONTENT  CLASS\n",
       "240                                 Shakira I love you      0\n",
       "357  ********OMG Facebook is OLD! Check out  ------...      1\n",
       "319  Hey guys and girls check out Comedy Recipe for...      1\n",
       "38   Love this song! My soccer team made a cd for o...      0"
      ]
     },
     "execution_count": 8,
     "metadata": {},
     "output_type": "execute_result"
    }
   ],
   "source": [
    "# Shuffle the dataset\n",
    "df_shuffled = df_filtered.sample(frac=1)\n",
    "\n",
    "# Print the shuffled dataset\n",
    "df_shuffled.head(4)\n"
   ]
  },
  {
   "cell_type": "code",
   "execution_count": 9,
   "metadata": {},
   "outputs": [
    {
     "name": "stdout",
     "output_type": "stream",
     "text": [
      "X_train shape: (277, 1)\n",
      "X_test shape: (93, 1)\n",
      "y_train shape: (277,)\n",
      "y_test shape: (93,)\n"
     ]
    }
   ],
   "source": [
    "# Split the dataset into training and test sets with an 75/25 split\n",
    "X = df_shuffled.drop('CLASS', axis=1) \n",
    "y = df_shuffled['CLASS']\n",
    "\n",
    "train_size = int(len(X) * 0.75) \n",
    "test_size = len(X) - train_size\n",
    "\n",
    "X_train = X[:train_size]\n",
    "X_test = X[train_size:]\n",
    "y_train = y[:train_size]\n",
    "y_test = y[train_size:]\n",
    "\n",
    "print(\"X_train shape:\", X_train.shape)\n",
    "print(\"X_test shape:\", X_test.shape)\n",
    "print(\"y_train shape:\", y_train.shape)\n",
    "print(\"y_test shape:\", y_test.shape)"
   ]
  },
  {
   "cell_type": "code",
   "execution_count": 10,
   "metadata": {},
   "outputs": [
    {
     "data": {
      "text/plain": [
       "(277, 1130)"
      ]
     },
     "execution_count": 10,
     "metadata": {},
     "output_type": "execute_result"
    }
   ],
   "source": [
    "#Build a count vectorizer and extract term counts \n",
    "#Building a Category text predictor. \n",
    "#Use count_vectorizer.fit_transform().\n",
    "from sklearn.feature_extraction.text import CountVectorizer\n",
    "\n",
    "# Create an instance of CountVectorizer\n",
    "count_vectorizer = CountVectorizer()\n",
    "train_tc = count_vectorizer.fit_transform(X_train['CONTENT'])\n",
    "train_tc.shape\n"
   ]
  },
  {
   "cell_type": "code",
   "execution_count": 11,
   "metadata": {},
   "outputs": [
    {
     "name": "stdout",
     "output_type": "stream",
     "text": [
      "Shape of the downscaled data: (277, 1130)\n",
      "Type of the data: <class 'scipy.sparse._csr.csr_matrix'>\n"
     ]
    }
   ],
   "source": [
    "#This downscaling is called tf–idf for “Term Frequency times Inverse Document Frequency”.\n",
    "# Create the tf-idf transformer\n",
    "from sklearn.feature_extraction.text import TfidfTransformer\n",
    "\n",
    "# Create an instance of TfidfTransformer\n",
    "tfidf_transformer = TfidfTransformer()\n",
    "train_tfidf = tfidf_transformer.fit_transform(train_tc)\n",
    "\n",
    "\n",
    "# Print the shape of the downscaled data\n",
    "print(\"Shape of the downscaled data:\", train_tfidf.shape)\n",
    "\n",
    "# Print any other useful information about the downscaled data\n",
    "print(\"Type of the data:\", type(train_tfidf))\n",
    "\n"
   ]
  },
  {
   "cell_type": "code",
   "execution_count": 12,
   "metadata": {},
   "outputs": [],
   "source": [
    "from sklearn.naive_bayes import MultinomialNB\n",
    "\n",
    "# tfidf used for text classification and information retrieval\n",
    "# Create an instance of the MultinomialNB classifier\n",
    "classifier = MultinomialNB().fit(train_tfidf, y_train)\n"
   ]
  },
  {
   "cell_type": "code",
   "execution_count": 13,
   "metadata": {},
   "outputs": [],
   "source": [
    "#Using nltk toolkit classes and methods prepare the data for model building\n",
    "import nltk\n",
    "from nltk.corpus import stopwords\n",
    "from nltk.tokenize import word_tokenize\n",
    "from nltk.stem import WordNetLemmatizer"
   ]
  },
  {
   "cell_type": "code",
   "execution_count": 14,
   "metadata": {},
   "outputs": [
    {
     "data": {
      "text/plain": [
       "0.9891696750902527"
      ]
     },
     "execution_count": 14,
     "metadata": {},
     "output_type": "execute_result"
    }
   ],
   "source": [
    "from sklearn.metrics import accuracy_score\n",
    "\n",
    "ypred = classifier.predict(train_tfidf)\n",
    "accuracy_score(y_train, ypred)"
   ]
  },
  {
   "cell_type": "markdown",
   "metadata": {},
   "source": [
    "# Define test data here"
   ]
  },
  {
   "cell_type": "code",
   "execution_count": 23,
   "metadata": {},
   "outputs": [],
   "source": [
    "input_data = X_test['CONTENT']"
   ]
  },
  {
   "cell_type": "code",
   "execution_count": 20,
   "metadata": {},
   "outputs": [],
   "source": [
    "#Custom input data here\n",
    "\n",
    "# Create 4 non-spam comments and 2 spam comments\n",
    "input_data = [\n",
    "    'This is a great video',\n",
    "    'I love this video',\n",
    "    'This video is the best',\n",
    "    'This video is the worst',\n",
    "    'Check out my video',\n",
    "    'Yo must see Snoop Dogg new video!',\n",
    "    'It is similar to the video I saw yesterday',\n",
    "    'It is similar to the video with snoop dog'\n",
    "]\n"
   ]
  },
  {
   "cell_type": "code",
   "execution_count": 24,
   "metadata": {},
   "outputs": [],
   "source": [
    "input_tc = count_vectorizer.transform(input_data)"
   ]
  },
  {
   "cell_type": "code",
   "execution_count": 25,
   "metadata": {},
   "outputs": [
    {
     "name": "stdout",
     "output_type": "stream",
     "text": [
      "\n",
      "Input: and how many subscribers compared to her over a million \n",
      "Predicted category: Spam\n",
      "\n",
      "Input: CHECK OUT THE DUBSTEP VERSION \n",
      "Predicted category: Spam\n",
      "\n",
      "Input: I felt old when I realized that this song was 5 years old...﻿ \n",
      "Predicted category: Not Spam\n",
      "\n",
      "Input: Can this channel get 500+ subscribers? You can make that happen :D﻿ \n",
      "Predicted category: Spam\n",
      "\n",
      "Input: Hello everyone :) I know most of you probably pass up these kind of comments, but for those who are still reading this, thanks! I don’t have any money for advertisements, no chance of getting heard, nothing... If this comes off as spam, sorry. I am a video animator, just trying to make it up into the video animation industry. Please give me the chance to prove myself to you. Please visit my channel, subscribe if you like and thumb this comment up, so everyone can see! Thank You!  \n",
      "Predicted category: Spam\n",
      "\n",
      "Input: Hi, nice song Shakira! (Sorry for bad Brazilian)﻿ \n",
      "Predicted category: Not Spam\n",
      "\n",
      "Input: Hey guys whats up? I found this app that lets you get free gift card vouchers like psn cards,X-box live cards and even amazon gift cards. For free! All you have to do is  simply just download the app from the app store. It is called juno wallet. All you have to do is just sign up for the app and then complete a few surveys or just download some other free apps and you get money like 10 cents. Also, if you type in the code IM2458444. You will also start off with $0.25 free!!  \n",
      "Predicted category: Spam\n",
      "\n",
      "Input: I want to see Shakira, not football :) \n",
      "Predicted category: Not Spam\n",
      "\n",
      "Input: One of the best song of all the time﻿ \n",
      "Predicted category: Not Spam\n",
      "\n",
      "Input: ....I stil lisening this :)﻿ \n",
      "Predicted category: Not Spam\n",
      "\n",
      "Input: Watching in 2015﻿ \n",
      "Predicted category: Not Spam\n",
      "\n",
      "Input: I love song ﻿ \n",
      "Predicted category: Not Spam\n",
      "\n",
      "Input: I love this song so much &lt;3<br />Keep em&#39; coming!﻿ \n",
      "Predicted category: Not Spam\n",
      "\n",
      "Input: 5 years ago damn ﻿ \n",
      "Predicted category: Not Spam\n",
      "\n",
      "Input: My friend Sam loves this song😊😊😊😊😊😊😊😊😊😊😊😊😊😊😊😊😊😊😊😊😊😊😊😊😊😊😊😊😊😊😊😊😊😊😊😊😊😊😊😊😊😊😊😊😊😊﻿ \n",
      "Predicted category: Not Spam\n",
      "\n",
      "Input: Oh my god go to 1 billion of replay i love shakira﻿ \n",
      "Predicted category: Not Spam\n",
      "\n",
      "Input: Hi. Check out and share our songs. \n",
      "Predicted category: Spam\n",
      "\n",
      "Input: good!! \n",
      "Predicted category: Not Spam\n",
      "\n",
      "Input: wery good﻿ \n",
      "Predicted category: Not Spam\n",
      "\n",
      "Input: How To Make A Lot Of Money Fast \n",
      "Predicted category: Spam\n",
      "\n",
      "Input: Love song﻿ \n",
      "Predicted category: Not Spam\n",
      "\n",
      "Input:  subscribe to my feed \n",
      "Predicted category: Spam\n",
      "\n",
      "Input: I believe that soccer promotes terrorism. Bad choice, Shakira.﻿ \n",
      "Predicted category: Not Spam\n",
      "\n",
      "Input: I love this song and expect the World Cup .﻿ \n",
      "Predicted category: Not Spam\n",
      "\n",
      "Input: I like \n",
      "Predicted category: Not Spam\n",
      "\n",
      "Input: I love shakira<br />❤❤❤❤﻿ \n",
      "Predicted category: Not Spam\n",
      "\n",
      "Input: hahahahah ♥♥♥♥ :D like vines ?  Subscribe to me for daily vines \n",
      "Predicted category: Spam\n",
      "\n",
      "Input: Hi.Check out and share our songs. \n",
      "Predicted category: Spam\n",
      "\n",
      "Input: the song is sad﻿ \n",
      "Predicted category: Not Spam\n",
      "\n",
      "Input: cool song check out my animal trafficking petition.<br /><a href=\"http://www.thepetitionsite.com/387/433/550/stop-animal-trafficking/?cid=headerClick\">http://www.thepetitionsite.com/387/433/550/stop-animal-trafficking/?cid=headerClick</a>﻿ \n",
      "Predicted category: Spam\n",
      "\n",
      "Input: Hey Music Fans I really appreciate any of you who will take the time to read this, and check my music out! I&#39;m just a 15 year old boy DREAMING of being a successful MUSICIAN in the music world. I do lots of covers, and piano covers. But I don&#39;t have money to advertise. A simple thumbs up to my comment, a comment on my videos or a SUBSCRIPTION would be a step forward! It will only be a few seconds of your life that you won&#39;t regret!!! Thank u to all the people who just give me a chance! :)  \n",
      "Predicted category: Spam\n",
      "\n",
      "Input: she is sooooo beautiful! \n",
      "Predicted category: Not Spam\n",
      "\n",
      "Input: Good times ...﻿ \n",
      "Predicted category: Not Spam\n",
      "\n",
      "Input: Whose who are watching this in 2015.  LIKE!﻿ \n",
      "Predicted category: Not Spam\n",
      "\n",
      "Input: There are beautiful songs please subscribe﻿ \n",
      "Predicted category: Spam\n",
      "\n",
      "Input: this song always gives me chills! :) \n",
      "Predicted category: Not Spam\n",
      "\n",
      "Input: Love it \n",
      "Predicted category: Not Spam\n",
      "\n",
      "Input: Recommend:  Apple iPad 4th Gen 32GB Unlocked Wi-Fi+4G 9.7in White Price:$390  Apple iPhone 5 (Latest Model) - 32GB - Black Price:$385  Samsung Galaxy S4 S IV 4 with 16GB New White Price:$360  Sony 60-inch 3D LED HDTV Price:$510  All-in-One PCs: Apple MacBook Pro: Apple MacBook Air Price:$320  Camera :Nikon D90 SLR Camera /18-55mm /55-200mm 32GB  Price:$390   Ultrabooks: SONY VAIO Pro 13 Intel Core i5 4GB 128GB Price:$515  +++++++++++++++    Purchase online Website is:  Taaee.com \n",
      "Predicted category: Spam\n",
      "\n",
      "Input: Waka waka ﻿ \n",
      "Predicted category: Not Spam\n",
      "\n",
      "Input: I heard this when I was only 6 years old and I still love it﻿ \n",
      "Predicted category: Not Spam\n",
      "\n",
      "Input: New way to make money easily and spending 20 minutes daily --&gt; <a href=\"https://www.paidverts.com/ref/Marius1533\">https://www.paidverts.com/ref/Marius1533</a>﻿ \n",
      "Predicted category: Spam\n",
      "\n",
      "Input: Top three Shakira songs (my choice) <br /><br />1- Waka Waka (it&#39;s time for Africa)<br /><br />2- Can&#39;t remember to forget you <br /><br />3- Empire<br /><br />Like this comment if u like Shakira ﻿ \n",
      "Predicted category: Not Spam\n",
      "\n",
      "Input: Still amazing this song!! I did a French Kpop Parody. Please come on my Channel to watch it. Share, suscribe, comment Thanks \n",
      "Predicted category: Spam\n",
      "\n",
      "Input: Check out this video on YouTube:<br />&quot;This Time for Africa&quot;. One for Trayvon!  And Our MOTHERland<br />Thank-you Shakira﻿ \n",
      "Predicted category: Spam\n",
      "\n",
      "Input: Pleas subscribe GamezZ MTA my channel<br />﻿ \n",
      "Predicted category: Spam\n",
      "\n",
      "Input: subscribe now!!!!!! love the song!!!!!! love football!!! \n",
      "Predicted category: Not Spam\n",
      "\n",
      "Input: Being paid to respond to fast paid surveys from home has enabled me to give up working and make more than 4500 bucks monthly.  To read more go to this web site bit.ly\\1bSefQe \n",
      "Predicted category: Spam\n",
      "\n",
      "Input: coby this USL and past :<br /><a href=\"http://adf.ly\">http://adf.ly</a> /1HmVtX<br />delete space after y﻿ \n",
      "Predicted category: Spam\n",
      "\n",
      "Input:   Perhaps you have seen the newest Miley Cyrus SECRET video ?   She&#39;s sucking an old man&#39;s cock ,  If you wish to see her , check out the celebrity website beneath :   miley-secret-video.co.uk  \n",
      "Predicted category: Spam\n",
      "\n",
      "Input: Waka waka eh eh﻿ \n",
      "Predicted category: Not Spam\n",
      "\n",
      "Input: Waka best one﻿ \n",
      "Predicted category: Not Spam\n",
      "\n",
      "Input: I love this song for two reasons: 1.it is about Africa 2.i was born in beautiful south Africa \n",
      "Predicted category: Not Spam\n",
      "\n",
      "Input: Lip synch is terrible﻿ \n",
      "Predicted category: Not Spam\n",
      "\n",
      "Input: 860,000,000 lets make it first female to reach one billion!! Share it and replay it! ﻿ \n",
      "Predicted category: Spam\n",
      "\n",
      "Input: Shakira :-* \n",
      "Predicted category: Not Spam\n",
      "\n",
      "Input: Thumbs up if your watching in 2015﻿ \n",
      "Predicted category: Not Spam\n",
      "\n",
      "Input: BEST SONG EVER X3333333333﻿ \n",
      "Predicted category: Not Spam\n",
      "\n",
      "Input: PLEASE CHECK OUT THIS VIDEO CALLED &quot;WE LOVE MIND MASTER IT&quot;, THANK U :) \n",
      "Predicted category: Spam\n",
      "\n",
      "Input: wow \n",
      "Predicted category: Not Spam\n",
      "\n",
      "Input: Could you please check out my covers on my channel? I do covers like Adele, Kodaline, Imagine Dragons...and more. Please if you could spare a few minutes,  could you have a listen to one or two of my covers , Feel free to comment and subscribe :) Thank you!  \n",
      "Predicted category: Spam\n",
      "\n",
      "Input: You guys should check out this EXTRAORDINARY website called ZONEPA.COM . You can make money online and start working from home today as I am! I am making over $3,000+ per month at ZONEPA.COM ! Visit Zonepa.com and check it out! The plausible summer submits the behavior. When does the grass check the peaceful seat? The country strategizes the edge. \n",
      "Predicted category: Spam\n",
      "\n",
      "Input: cool \n",
      "Predicted category: Not Spam\n",
      "\n",
      "Input: I like this song ﻿ \n",
      "Predicted category: Not Spam\n",
      "\n",
      "Input: Good song:-)﻿ \n",
      "Predicted category: Not Spam\n",
      "\n",
      "Input: Like﻿ \n",
      "Predicted category: Not Spam\n",
      "\n",
      "Input: subscribe to me and I wil subscribe to you back﻿ \n",
      "Predicted category: Spam\n",
      "\n",
      "Input: i totally love this song. absolutely fantastic! i love ya shakira!﻿ \n",
      "Predicted category: Not Spam\n",
      "\n",
      "Input: The best world cup song ever!!!!﻿ \n",
      "Predicted category: Not Spam\n",
      "\n",
      "Input: like me﻿ \n",
      "Predicted category: Not Spam\n",
      "\n",
      "Input: see this<br /><a href=\"http://adf.ly\">http://adf.ly</a> /1HmVtX﻿ \n",
      "Predicted category: Spam\n",
      "\n",
      "Input: Like﻿ \n",
      "Predicted category: Not Spam\n",
      "\n",
      "Input: Shakira - Waka Waka <br />LOVE THIS SONG!!!!!!!!!!!!!!!﻿ \n",
      "Predicted category: Not Spam\n",
      "\n",
      "Input: Your the best♣♥﻿ \n",
      "Predicted category: Not Spam\n",
      "\n",
      "Input: check out my new video \n",
      "Predicted category: Spam\n",
      "\n",
      "Input: Waka Waka!:D   Check out my new HALLOWEEN VIDEO!:) \n",
      "Predicted category: Spam\n",
      "\n",
      "Input: 5 years soon!﻿ \n",
      "Predicted category: Not Spam\n",
      "\n",
      "Input: I loved this song when I was in my teenage years!﻿ \n",
      "Predicted category: Not Spam\n",
      "\n",
      "Input: Gusttavo Lima Você não me conhece <br />Check out﻿ \n",
      "Predicted category: Spam\n",
      "\n",
      "Input: You guys should check out this EXTRAORDINARY website called MONEYGQ.COM .   You can make money online and start working from home today as I am!   I am making over $3,000+ per month at MONEYGQ.COM !   Visit MONEYGQ.COM and check it out!  Why does the fragile swim enlist the person? How does the ice audit the frequent son? The fantastic chance describes the rate. \n",
      "Predicted category: Spam\n",
      "\n",
      "Input: Check out this playlist on YouTube<br />﻿ \n",
      "Predicted category: Spam\n",
      "\n",
      "Input: Hey check out our new musicvideo &#39;&#39;Life&#39;s a celebration&#39;&#39; Peace ! \n",
      "Predicted category: Spam\n",
      "\n",
      "Input: I really love watching football and also I’ve started off making income with out financial risk from acquiring bonus deals. It’s this weird technique where you wager on something with one bookmakers and bet against it on Betfair. You secure the bonus as income . A chap named Jim Vanstone is finding the wagers free on his own website Vanstone Secrets (Google it!). I’ve made about 500 quid thus far. And it is cost-free. I guess the bookies pay him to obtain new consumers, yet this actually works. \n",
      "Predicted category: Spam\n",
      "\n",
      "Input: so beutiful \n",
      "Predicted category: Not Spam\n",
      "\n",
      "Input: PLEASE CHECK OUT MY VIDEO CALLED &quot;WE LOVE MIND MASTER IT&quot; THANKS \n",
      "Predicted category: Spam\n",
      "\n",
      "Input: PLEASSSSSSSSSSSSSSSS SUBSCRIBEEEEEEEEEE MY CHANNNNNNELLL PLZZ﻿ \n",
      "Predicted category: Spam\n",
      "\n",
      "Input: Hello everyone my name&#39;s Anderson and i&#39;m a singer. not expecting to buy subscribers with words BUT to gain them with my voice. I might not be the best but my voice is different (in a good way) and i&#39;ll work harder than anyone out there to get better, &#39;cuz &quot;yeah&quot; i have a dream  a HUGE one, (who doesn&#39;t?) so please take 3 minutes of your time to check out my covers. Give me a chance you won&#39;t regret it If you feel like subscribing that&#39;d be awesome and it&#39;d mean the world to me THANK YOU SO MUCH \n",
      "Predicted category: Spam\n",
      "\n",
      "Input: :D subscribe to me for daily vines \n",
      "Predicted category: Spam\n",
      "\n",
      "Input: Hey Music Fans I really appreciate any of you who will take the time to read this, and check my music out! I&#39;m just a 15 year old boy DREAMING of being a successful MUSICIAN in the music world. I do lots of covers, and piano covers. But I don&#39;t have money to advertise. A simple thumbs up to my comment, a comment on my videos or a SUBSCRIPTION would be a step forward! It will only be a few seconds of your life that you won&#39;t regret!!! Thank u to all the people who just give me a chance! :)  \n",
      "Predicted category: Spam\n",
      "\n",
      "Input: nice song﻿ \n",
      "Predicted category: Not Spam\n",
      "\n",
      "Input: Check out this playlist on YouTube:Central ﻿ \n",
      "Predicted category: Spam\n",
      "\n",
      "Input: I love this song \n",
      "Predicted category: Not Spam\n",
      "\n",
      "Input: Hey, have you tried &quot;DribblePROshot&quot; yet? Just do a search on Google. On their website you will find a useful free video demonstrating the right way to enormously improve your soccer or football skills in no time... It transformed Fausto into a substantially better football/soccer player...to the amazement of his team mates. Hopefully it works for you too. \n",
      "Predicted category: Spam\n",
      "\n",
      "Input: Nice vídeo shakira good﻿ \n",
      "Predicted category: Not Spam\n"
     ]
    }
   ],
   "source": [
    "input_tfidf = tfidf_transformer.transform(input_tc)\n",
    "predictions = classifier.predict(input_tfidf)\n",
    "\n",
    "category_map = {\n",
    "    0: 'Not Spam', \n",
    "    1: 'Spam', \n",
    "}\n",
    "\n",
    "# Print the classification results\n",
    "for sent, category in zip(input_data, predictions):\n",
    "    print('\\nInput:', sent, '\\nPredicted category:', category_map[category])"
   ]
  },
  {
   "cell_type": "code",
   "execution_count": 26,
   "metadata": {},
   "outputs": [
    {
     "data": {
      "text/plain": [
       "0.956989247311828"
      ]
     },
     "execution_count": 26,
     "metadata": {},
     "output_type": "execute_result"
    }
   ],
   "source": [
    "#Check the accuracy_score with test data set (0.25)\n",
    "accuracy_score(y_test, predictions)"
   ]
  }
 ],
 "metadata": {
  "kernelspec": {
   "display_name": "base",
   "language": "python",
   "name": "python3"
  },
  "language_info": {
   "codemirror_mode": {
    "name": "ipython",
    "version": 3
   },
   "file_extension": ".py",
   "mimetype": "text/x-python",
   "name": "python",
   "nbconvert_exporter": "python",
   "pygments_lexer": "ipython3",
   "version": "3.11.4"
  }
 },
 "nbformat": 4,
 "nbformat_minor": 2
}
