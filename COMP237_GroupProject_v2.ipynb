{
 "cells": [
  {
   "cell_type": "code",
   "execution_count": 1,
   "metadata": {},
   "outputs": [],
   "source": [
    "import pandas as pd\n",
    "\n",
    "#Assigning the data file to a variable\n",
    "file_path = r\"C:\\git\\comp237-gp1-nlp-project\\dataset\\Youtube05-Shakira.csv\"\n",
    "\n",
    "# Replace 'file_path' with the actual path to your data file\n",
    "df = pd.read_csv(file_path)\n"
   ]
  },
  {
   "cell_type": "code",
   "execution_count": 2,
   "metadata": {},
   "outputs": [
    {
     "data": {
      "text/html": [
       "<div>\n",
       "<style scoped>\n",
       "    .dataframe tbody tr th:only-of-type {\n",
       "        vertical-align: middle;\n",
       "    }\n",
       "\n",
       "    .dataframe tbody tr th {\n",
       "        vertical-align: top;\n",
       "    }\n",
       "\n",
       "    .dataframe thead th {\n",
       "        text-align: right;\n",
       "    }\n",
       "</style>\n",
       "<table border=\"1\" class=\"dataframe\">\n",
       "  <thead>\n",
       "    <tr style=\"text-align: right;\">\n",
       "      <th></th>\n",
       "      <th>COMMENT_ID</th>\n",
       "      <th>AUTHOR</th>\n",
       "      <th>DATE</th>\n",
       "      <th>CONTENT</th>\n",
       "      <th>CLASS</th>\n",
       "    </tr>\n",
       "  </thead>\n",
       "  <tbody>\n",
       "    <tr>\n",
       "      <th>0</th>\n",
       "      <td>z13lgffb5w3ddx1ul22qy1wxspy5cpkz504</td>\n",
       "      <td>dharma pal</td>\n",
       "      <td>2015-05-29T02:30:18.971000</td>\n",
       "      <td>Nice song﻿</td>\n",
       "      <td>0</td>\n",
       "    </tr>\n",
       "    <tr>\n",
       "      <th>1</th>\n",
       "      <td>z123dbgb0mqjfxbtz22ucjc5jvzcv3ykj</td>\n",
       "      <td>Tiza Arellano</td>\n",
       "      <td>2015-05-29T00:14:48.748000</td>\n",
       "      <td>I love song ﻿</td>\n",
       "      <td>0</td>\n",
       "    </tr>\n",
       "    <tr>\n",
       "      <th>2</th>\n",
       "      <td>z12quxxp2vutflkxv04cihggzt2azl34pms0k</td>\n",
       "      <td>Prìñçeśś Âliś Łøvê Dømíñø Mâđiś™ ﻿</td>\n",
       "      <td>2015-05-28T21:00:08.607000</td>\n",
       "      <td>I love song ﻿</td>\n",
       "      <td>0</td>\n",
       "    </tr>\n",
       "    <tr>\n",
       "      <th>3</th>\n",
       "      <td>z12icv3ysqvlwth2c23eddlykyqut5z1h</td>\n",
       "      <td>Eric Gonzalez</td>\n",
       "      <td>2015-05-28T20:47:12.193000</td>\n",
       "      <td>860,000,000 lets make it first female to reach...</td>\n",
       "      <td>0</td>\n",
       "    </tr>\n",
       "    <tr>\n",
       "      <th>4</th>\n",
       "      <td>z133stly3kete3tly22petvwdpmghrlli</td>\n",
       "      <td>Analena López</td>\n",
       "      <td>2015-05-28T17:08:29.827000</td>\n",
       "      <td>shakira is best for worldcup﻿</td>\n",
       "      <td>0</td>\n",
       "    </tr>\n",
       "  </tbody>\n",
       "</table>\n",
       "</div>"
      ],
      "text/plain": [
       "                              COMMENT_ID                              AUTHOR  \\\n",
       "0    z13lgffb5w3ddx1ul22qy1wxspy5cpkz504                          dharma pal   \n",
       "1      z123dbgb0mqjfxbtz22ucjc5jvzcv3ykj                       Tiza Arellano   \n",
       "2  z12quxxp2vutflkxv04cihggzt2azl34pms0k  Prìñçeśś Âliś Łøvê Dømíñø Mâđiś™ ﻿   \n",
       "3      z12icv3ysqvlwth2c23eddlykyqut5z1h                       Eric Gonzalez   \n",
       "4      z133stly3kete3tly22petvwdpmghrlli                       Analena López   \n",
       "\n",
       "                         DATE  \\\n",
       "0  2015-05-29T02:30:18.971000   \n",
       "1  2015-05-29T00:14:48.748000   \n",
       "2  2015-05-28T21:00:08.607000   \n",
       "3  2015-05-28T20:47:12.193000   \n",
       "4  2015-05-28T17:08:29.827000   \n",
       "\n",
       "                                             CONTENT  CLASS  \n",
       "0                                         Nice song﻿      0  \n",
       "1                                      I love song ﻿      0  \n",
       "2                                      I love song ﻿      0  \n",
       "3  860,000,000 lets make it first female to reach...      0  \n",
       "4                      shakira is best for worldcup﻿      0  "
      ]
     },
     "execution_count": 2,
     "metadata": {},
     "output_type": "execute_result"
    }
   ],
   "source": [
    "#Displaying the first 5 rows of the data to see what it looks like\n",
    "df.head(5)"
   ]
  },
  {
   "cell_type": "code",
   "execution_count": 3,
   "metadata": {},
   "outputs": [
    {
     "name": "stdout",
     "output_type": "stream",
     "text": [
      "<class 'pandas.core.frame.DataFrame'>\n",
      "RangeIndex: 370 entries, 0 to 369\n",
      "Data columns (total 5 columns):\n",
      " #   Column      Non-Null Count  Dtype \n",
      "---  ------      --------------  ----- \n",
      " 0   COMMENT_ID  370 non-null    object\n",
      " 1   AUTHOR      370 non-null    object\n",
      " 2   DATE        370 non-null    object\n",
      " 3   CONTENT     370 non-null    object\n",
      " 4   CLASS       370 non-null    int64 \n",
      "dtypes: int64(1), object(4)\n",
      "memory usage: 14.6+ KB\n"
     ]
    }
   ],
   "source": [
    "#Confirming the data type of each column and no missing values\n",
    "df.info()"
   ]
  },
  {
   "cell_type": "code",
   "execution_count": 4,
   "metadata": {},
   "outputs": [],
   "source": [
    "#After reading the data file, we can determine that only the 'CONTENT' and 'CLASS' columns are needed for the analysis.\n",
    "#We can drop the other columns using the drop() method.\n",
    "df_filtered = df.drop(['COMMENT_ID', 'AUTHOR', 'DATE'], axis=1)"
   ]
  },
  {
   "cell_type": "code",
   "execution_count": 5,
   "metadata": {},
   "outputs": [
    {
     "data": {
      "text/plain": [
       "array([0, 1], dtype=int64)"
      ]
     },
     "execution_count": 5,
     "metadata": {},
     "output_type": "execute_result"
    }
   ],
   "source": [
    "#find How many labels of CLASS column\n",
    "df_filtered['CLASS'].unique()"
   ]
  },
  {
   "cell_type": "code",
   "execution_count": 6,
   "metadata": {},
   "outputs": [
    {
     "data": {
      "text/html": [
       "<div>\n",
       "<style scoped>\n",
       "    .dataframe tbody tr th:only-of-type {\n",
       "        vertical-align: middle;\n",
       "    }\n",
       "\n",
       "    .dataframe tbody tr th {\n",
       "        vertical-align: top;\n",
       "    }\n",
       "\n",
       "    .dataframe thead th {\n",
       "        text-align: right;\n",
       "    }\n",
       "</style>\n",
       "<table border=\"1\" class=\"dataframe\">\n",
       "  <thead>\n",
       "    <tr style=\"text-align: right;\">\n",
       "      <th></th>\n",
       "      <th>CONTENT</th>\n",
       "      <th>CLASS</th>\n",
       "    </tr>\n",
       "  </thead>\n",
       "  <tbody>\n",
       "    <tr>\n",
       "      <th>7</th>\n",
       "      <td>SEE SOME MORE SONG OPEN GOOGLE AND TYPE Shakir...</td>\n",
       "      <td>1</td>\n",
       "    </tr>\n",
       "    <tr>\n",
       "      <th>22</th>\n",
       "      <td>Check out this playlist on YouTube:﻿</td>\n",
       "      <td>1</td>\n",
       "    </tr>\n",
       "    <tr>\n",
       "      <th>31</th>\n",
       "      <td>Support the fight for your 4th amendment right...</td>\n",
       "      <td>1</td>\n",
       "    </tr>\n",
       "    <tr>\n",
       "      <th>36</th>\n",
       "      <td>Check out this video on YouTube:﻿</td>\n",
       "      <td>1</td>\n",
       "    </tr>\n",
       "    <tr>\n",
       "      <th>51</th>\n",
       "      <td>coby this USL and past :&lt;br /&gt;&lt;a href=\"http://...</td>\n",
       "      <td>1</td>\n",
       "    </tr>\n",
       "  </tbody>\n",
       "</table>\n",
       "</div>"
      ],
      "text/plain": [
       "                                              CONTENT  CLASS\n",
       "7   SEE SOME MORE SONG OPEN GOOGLE AND TYPE Shakir...      1\n",
       "22               Check out this playlist on YouTube:﻿      1\n",
       "31  Support the fight for your 4th amendment right...      1\n",
       "36                  Check out this video on YouTube:﻿      1\n",
       "51  coby this USL and past :<br /><a href=\"http://...      1"
      ]
     },
     "execution_count": 6,
     "metadata": {},
     "output_type": "execute_result"
    }
   ],
   "source": [
    "# View data with CLASS = 1\n",
    "df_filtered[df_filtered['CLASS'] == 1].head(5)"
   ]
  },
  {
   "cell_type": "code",
   "execution_count": 7,
   "metadata": {},
   "outputs": [
    {
     "data": {
      "text/html": [
       "<div>\n",
       "<style scoped>\n",
       "    .dataframe tbody tr th:only-of-type {\n",
       "        vertical-align: middle;\n",
       "    }\n",
       "\n",
       "    .dataframe tbody tr th {\n",
       "        vertical-align: top;\n",
       "    }\n",
       "\n",
       "    .dataframe thead th {\n",
       "        text-align: right;\n",
       "    }\n",
       "</style>\n",
       "<table border=\"1\" class=\"dataframe\">\n",
       "  <thead>\n",
       "    <tr style=\"text-align: right;\">\n",
       "      <th></th>\n",
       "      <th>CONTENT</th>\n",
       "      <th>CLASS</th>\n",
       "    </tr>\n",
       "  </thead>\n",
       "  <tbody>\n",
       "    <tr>\n",
       "      <th>0</th>\n",
       "      <td>Nice song﻿</td>\n",
       "      <td>0</td>\n",
       "    </tr>\n",
       "    <tr>\n",
       "      <th>1</th>\n",
       "      <td>I love song ﻿</td>\n",
       "      <td>0</td>\n",
       "    </tr>\n",
       "    <tr>\n",
       "      <th>2</th>\n",
       "      <td>I love song ﻿</td>\n",
       "      <td>0</td>\n",
       "    </tr>\n",
       "    <tr>\n",
       "      <th>3</th>\n",
       "      <td>860,000,000 lets make it first female to reach...</td>\n",
       "      <td>0</td>\n",
       "    </tr>\n",
       "    <tr>\n",
       "      <th>4</th>\n",
       "      <td>shakira is best for worldcup﻿</td>\n",
       "      <td>0</td>\n",
       "    </tr>\n",
       "  </tbody>\n",
       "</table>\n",
       "</div>"
      ],
      "text/plain": [
       "                                             CONTENT  CLASS\n",
       "0                                         Nice song﻿      0\n",
       "1                                      I love song ﻿      0\n",
       "2                                      I love song ﻿      0\n",
       "3  860,000,000 lets make it first female to reach...      0\n",
       "4                      shakira is best for worldcup﻿      0"
      ]
     },
     "execution_count": 7,
     "metadata": {},
     "output_type": "execute_result"
    }
   ],
   "source": [
    "# View data with CLASS = 0\n",
    "df_filtered[df_filtered['CLASS'] == 0].head(5)"
   ]
  },
  {
   "cell_type": "markdown",
   "metadata": {},
   "source": [
    "From above data, we can determine CLASS labeled with 1 is Spam, 0 is non-spam."
   ]
  },
  {
   "cell_type": "code",
   "execution_count": 8,
   "metadata": {},
   "outputs": [
    {
     "data": {
      "text/html": [
       "<div>\n",
       "<style scoped>\n",
       "    .dataframe tbody tr th:only-of-type {\n",
       "        vertical-align: middle;\n",
       "    }\n",
       "\n",
       "    .dataframe tbody tr th {\n",
       "        vertical-align: top;\n",
       "    }\n",
       "\n",
       "    .dataframe thead th {\n",
       "        text-align: right;\n",
       "    }\n",
       "</style>\n",
       "<table border=\"1\" class=\"dataframe\">\n",
       "  <thead>\n",
       "    <tr style=\"text-align: right;\">\n",
       "      <th></th>\n",
       "      <th>CONTENT</th>\n",
       "      <th>CLASS</th>\n",
       "    </tr>\n",
       "  </thead>\n",
       "  <tbody>\n",
       "    <tr>\n",
       "      <th>215</th>\n",
       "      <td>She is perfect</td>\n",
       "      <td>0</td>\n",
       "    </tr>\n",
       "    <tr>\n",
       "      <th>132</th>\n",
       "      <td>Help shakira&amp;#39;s waka waka be the first song...</td>\n",
       "      <td>1</td>\n",
       "    </tr>\n",
       "    <tr>\n",
       "      <th>270</th>\n",
       "      <td>I always have goose bumps at that part</td>\n",
       "      <td>0</td>\n",
       "    </tr>\n",
       "    <tr>\n",
       "      <th>283</th>\n",
       "      <td>shakira is the best!</td>\n",
       "      <td>0</td>\n",
       "    </tr>\n",
       "  </tbody>\n",
       "</table>\n",
       "</div>"
      ],
      "text/plain": [
       "                                               CONTENT  CLASS\n",
       "215                                     She is perfect      0\n",
       "132  Help shakira&#39;s waka waka be the first song...      1\n",
       "270             I always have goose bumps at that part      0\n",
       "283                               shakira is the best!      0"
      ]
     },
     "execution_count": 8,
     "metadata": {},
     "output_type": "execute_result"
    }
   ],
   "source": [
    "# Shuffle the dataset\n",
    "df_shuffled = df_filtered.sample(frac=1)\n",
    "\n",
    "# Print the shuffled dataset\n",
    "df_shuffled.head(4)\n"
   ]
  },
  {
   "cell_type": "code",
   "execution_count": 9,
   "metadata": {},
   "outputs": [
    {
     "name": "stdout",
     "output_type": "stream",
     "text": [
      "X_train shape: (277, 1)\n",
      "X_test shape: (93, 1)\n",
      "y_train shape: (277,)\n",
      "y_test shape: (93,)\n"
     ]
    }
   ],
   "source": [
    "# Split the dataset into training and test sets with an 75/25 split\n",
    "X = df_shuffled.drop('CLASS', axis=1) \n",
    "y = df_shuffled['CLASS']\n",
    "\n",
    "train_size = int(len(X) * 0.75) \n",
    "test_size = len(X) - train_size\n",
    "\n",
    "X_train = X[:train_size]\n",
    "X_test = X[train_size:]\n",
    "y_train = y[:train_size]\n",
    "y_test = y[train_size:]\n",
    "\n",
    "print(\"X_train shape:\", X_train.shape)\n",
    "print(\"X_test shape:\", X_test.shape)\n",
    "print(\"y_train shape:\", y_train.shape)\n",
    "print(\"y_test shape:\", y_test.shape)"
   ]
  },
  {
   "cell_type": "code",
   "execution_count": 10,
   "metadata": {},
   "outputs": [
    {
     "data": {
      "text/plain": [
       "(277, 1123)"
      ]
     },
     "execution_count": 10,
     "metadata": {},
     "output_type": "execute_result"
    }
   ],
   "source": [
    "#Build a count vectorizer and extract term counts \n",
    "#Building a Category text predictor. \n",
    "#Use count_vectorizer.fit_transform().\n",
    "from sklearn.feature_extraction.text import CountVectorizer\n",
    "\n",
    "# Create an instance of CountVectorizer\n",
    "count_vectorizer = CountVectorizer()\n",
    "train_tc = count_vectorizer.fit_transform(X_train['CONTENT'])\n",
    "train_tc.shape\n"
   ]
  },
  {
   "cell_type": "code",
   "execution_count": 11,
   "metadata": {},
   "outputs": [
    {
     "name": "stdout",
     "output_type": "stream",
     "text": [
      "Shape of the downscaled data: (277, 1123)\n",
      "Type of the data: <class 'scipy.sparse._csr.csr_matrix'>\n"
     ]
    }
   ],
   "source": [
    "#This downscaling is called tf–idf for “Term Frequency times Inverse Document Frequency”.\n",
    "# Create the tf-idf transformer\n",
    "from sklearn.feature_extraction.text import TfidfTransformer\n",
    "\n",
    "# Create an instance of TfidfTransformer\n",
    "tfidf_transformer = TfidfTransformer()\n",
    "train_tfidf = tfidf_transformer.fit_transform(train_tc)\n",
    "\n",
    "\n",
    "# Print the shape of the downscaled data\n",
    "print(\"Shape of the downscaled data:\", train_tfidf.shape)\n",
    "\n",
    "# Print any other useful information about the downscaled data\n",
    "print(\"Type of the data:\", type(train_tfidf))\n",
    "\n"
   ]
  },
  {
   "cell_type": "code",
   "execution_count": 12,
   "metadata": {},
   "outputs": [],
   "source": [
    "from sklearn.naive_bayes import MultinomialNB\n",
    "\n",
    "# tfidf used for text classification and information retrieval\n",
    "# Create an instance of the MultinomialNB classifier\n",
    "classifier = MultinomialNB().fit(train_tfidf, y_train)\n"
   ]
  },
  {
   "cell_type": "code",
   "execution_count": 14,
   "metadata": {},
   "outputs": [
    {
     "data": {
      "text/plain": [
       "0.9891696750902527"
      ]
     },
     "execution_count": 14,
     "metadata": {},
     "output_type": "execute_result"
    }
   ],
   "source": [
    "from sklearn.metrics import accuracy_score\n",
    "\n",
    "ypred = classifier.predict(train_tfidf)\n",
    "accuracy_score(y_train, ypred)"
   ]
  },
  {
   "cell_type": "markdown",
   "metadata": {},
   "source": [
    "# Define test data here"
   ]
  },
  {
   "cell_type": "code",
   "execution_count": 15,
   "metadata": {},
   "outputs": [],
   "source": [
    "input_data_x_test = X_test['CONTENT']"
   ]
  },
  {
   "cell_type": "code",
   "execution_count": 16,
   "metadata": {},
   "outputs": [],
   "source": [
    "def output_pred(input_data):\n",
    "    input_tc = count_vectorizer.transform(input_data)\n",
    "    input_tfidf = tfidf_transformer.transform(input_tc)\n",
    "    predictions = classifier.predict(input_tfidf)\n",
    "    category_map = {\n",
    "        0: 'Not Spam', \n",
    "        1: 'Spam', \n",
    "    }\n",
    "    for sent, category in zip(input_data, predictions):\n",
    "        print('\\nInput:', sent, '\\nPredicted category:', category_map[category])\n",
    "\n",
    "    return predictions\n"
   ]
  },
  {
   "cell_type": "code",
   "execution_count": 17,
   "metadata": {},
   "outputs": [
    {
     "name": "stdout",
     "output_type": "stream",
     "text": [
      "\n",
      "Input: Love this song so much! One of my faves! Xxx﻿ \n",
      "Predicted category: Not Spam\n",
      "\n",
      "Input: Amazing song﻿ \n",
      "Predicted category: Not Spam\n",
      "\n",
      "Input: Hello everyone :) I know most of you probably pass up these kind of comments, but for those who are still reading this, thanks! I don’t have any money for advertisements, no chance of getting heard, nothing. I live in such a small town... If this comes off as spam, sorry. I’m an instrumental songwriter from Columbus, Mississippi. Please go to my channel and check out my original music. It would be highly appreciated if you thumbs up this comment so my music can be heard! Thank you, Adam Whitney  \n",
      "Predicted category: Spam\n",
      "\n",
      "Input: Hello everyone :) I know most of you probably pass up these kind of comments, but for those who are still reading this, thanks! I don’t have any money for advertisements, no chance of getting heard, nothing... If this comes off as spam, sorry. I am a video animator, just trying to make it up into the video animation industry. Please give me the chance to prove myself to you. Please visit my channel, subscribe if you like and thumb this comment up, so everyone can see! Thank You!  \n",
      "Predicted category: Spam\n",
      "\n",
      "Input: i can to make money \n",
      "Predicted category: Spam\n",
      "\n",
      "Input: Waka waka \n",
      "Predicted category: Not Spam\n",
      "\n",
      "Input: Love this song! My soccer team made a cd for our couch with this song on it!﻿ \n",
      "Predicted category: Not Spam\n",
      "\n",
      "Input: Stop Wasting Up Your Time and  Get Paid To Mess Around On Facebook And Twitter!  GET PAID UPTO $25 to $35 AN HOUR... Only at 4NetJobs.com  Work from the Comfort of your Home... We are Currently Hiring People from all Over the World,  For a Wide Range of Social Media Jobs on Sites such as Facebook,Twitter and YouTube.  You don&#39;t Need any Prior Skills or Experience and You can Begin Work Immediately!  You Can Easily Make $4000 to $5000+ Monthly Income…Only at 4NetJobs.com \n",
      "Predicted category: Spam\n",
      "\n",
      "Input: sexy shakira﻿ \n",
      "Predicted category: Not Spam\n",
      "\n",
      "Input: I love this song and expect the World Cup .﻿ \n",
      "Predicted category: Not Spam\n",
      "\n",
      "Input: Good song:-)﻿ \n",
      "Predicted category: Not Spam\n",
      "\n",
      "Input: Where are Shakifans? \n",
      "Predicted category: Not Spam\n",
      "\n",
      "Input: Love this song!!! \n",
      "Predicted category: Not Spam\n",
      "\n",
      "Input: adf.ly / KlD3Y \n",
      "Predicted category: Spam\n",
      "\n",
      "Input: Subscribe and Win a CAP<br />       ☆☆☆☆☆﻿ \n",
      "Predicted category: Spam\n",
      "\n",
      "Input: **CHECK OUT MY NEW MIXTAPE**** **CHECK OUT MY NEW MIXTAPE**** **CHECK OUT MY NEW MIXTAPE*** ***CHECK OUT MY NEW MIXTAPE******CHECK OUT MY NEW MIXTAPE**** **CHECK OUT MY NEW MIXTAPE**** **CHECK OUT MY NEW MIXTAPE*** ***CHECK OUT MY NEW MIXTAPE******CHECK OUT MY NEW MIXTAPE**** **CHECK OUT MY NEW MIXTAPE**** **CHECK OUT MY NEW MIXTAPE*** ***CHECK OUT MY NEW MIXTAPE******CHECK OUT MY NEW MIXTAPE**** **CHECK OUT MY NEW MIXTAPE**** **CHECK OUT MY NEW MIXTAPE*** ***CHECK OUT MY NEW MIXTAPE**** \n",
      "Predicted category: Spam\n",
      "\n",
      "Input: Northland Paranormal Society is now on YouTube! Check out our channel of real Paranormal evidence!! facebook/ Northland Paranormal Society!!! \n",
      "Predicted category: Spam\n",
      "\n",
      "Input: subscribe now!!!!!! love the song!!!!!! love football!!! \n",
      "Predicted category: Not Spam\n",
      "\n",
      "Input: Nice song ^_^ \n",
      "Predicted category: Not Spam\n",
      "\n",
      "Input: i like and love so much people all friends..... I love Shakira ^^ \n",
      "Predicted category: Not Spam\n",
      "\n",
      "Input: WAYS TO MAKE MONEY 50k Per Month Search google Now &gt;&gt; 9nl.me/make-money-without-investment-1 \n",
      "Predicted category: Spam\n",
      "\n",
      "Input: PLEASE CHECK OUT THIS VIDEO CALLED &quot;WE LOVE MIND MASTER IT&quot;, THANK U :) \n",
      "Predicted category: Spam\n",
      "\n",
      "Input: wow \n",
      "Predicted category: Not Spam\n",
      "\n",
      "Input: please subscribe to my page. thanks. \n",
      "Predicted category: Spam\n",
      "\n",
      "Input: adf.ly /KlD3Y \n",
      "Predicted category: Spam\n",
      "\n",
      "Input: I love this song &amp;I love shakira&lt;333♡♡♡♡♡♡♡♡♡♡♡《33☆☆☆﻿ \n",
      "Predicted category: Not Spam\n",
      "\n",
      "Input: ｈｔｔｐ://ｗｗｗ.ｅｂａｙ.ｃｏｍ/ｕｓｒ/ｓｈｏｅｃｏｌｌｅｃｔｏｒ314 \n",
      "Predicted category: Not Spam\n",
      "\n",
      "Input: HI! CHECK OUT OUR AWESOME COVERS! AND SAY WHAT YOU THINK! \n",
      "Predicted category: Spam\n",
      "\n",
      "Input: ....I stil lisening this :)﻿ \n",
      "Predicted category: Not Spam\n",
      "\n",
      "Input: Her voice sounds weird and plus she&#39;s cute for a blonde﻿ \n",
      "Predicted category: Not Spam\n",
      "\n",
      "Input: To help shakira become the first female to hit 1billiom views, I&#39;ve decided to watch this Video at least one a day. Everyday! Shakifans we r so close just hit the replay button !!!﻿ \n",
      "Predicted category: Spam\n",
      "\n",
      "Input: My friend Sam loves this song😊😊😊😊😊😊😊😊😊😊😊😊😊😊😊😊😊😊😊😊😊😊😊😊😊😊😊😊😊😊😊😊😊😊😊😊😊😊😊😊😊😊😊😊😊😊﻿ \n",
      "Predicted category: Not Spam\n",
      "\n",
      "Input: Shakira :-* \n",
      "Predicted category: Not Spam\n",
      "\n",
      "Input: You guys should check out this EXTRAORDINARY website called MONEYGQ.COM .   You can make money online and start working from home today as I am!   I am making over $3,000+ per month at MONEYGQ.COM !   Visit MONEYGQ.COM and check it out!  Why does the fragile swim enlist the person? How does the ice audit the frequent son? The fantastic chance describes the rate. \n",
      "Predicted category: Spam\n",
      "\n",
      "Input: I love song ﻿ \n",
      "Predicted category: Not Spam\n",
      "\n",
      "Input: SUBSCRIBE MY CHANNEL \n",
      "Predicted category: Spam\n",
      "\n",
      "Input: Hey Music Fans I really appreciate any of you who will take the time to read this, and check my music out! I&#39;m just a 15 year old boy DREAMING of being a successful MUSICIAN in the music world. I do lots of covers, and piano covers. But I don&#39;t have money to advertise. A simple thumbs up to my comment, a comment on my videos or a SUBSCRIPTION would be a step forward! It will only be a few seconds of your life that you won&#39;t regret!!! Thank u to all the people who just give me a chance! :)  \n",
      "Predicted category: Spam\n",
      "\n",
      "Input: Recommend:  Apple iPad 4th Gen 32GB Unlocked Wi-Fi+4G 9.7in White Price:$390  Apple iPhone 5 (Latest Model) - 32GB - Black Price:$385  Samsung Galaxy S4 S IV 4 with 16GB New White Price:$360  Sony 60-inch 3D LED HDTV Price:$510  All-in-One PCs: Apple MacBook Pro: Apple MacBook Air Price:$320  Camera :Nikon D90 SLR Camera /18-55mm /55-200mm 32GB  Price:$390   Ultrabooks: SONY VAIO Pro 13 Intel Core i5 4GB 128GB Price:$515  +++++++++++++++    Purchase online Website is:  Taaee.com \n",
      "Predicted category: Spam\n",
      "\n",
      "Input: You guys should check out this EXTRAORDINARY website called ZONEPA.COM . You can make money online and start working from home today as I am! I am making over $3,000+ per month at ZONEPA.COM ! Visit Zonepa.com and check it out! The plausible summer submits the behavior. When does the grass check the peaceful seat? The country strategizes the edge. \n",
      "Predicted category: Spam\n",
      "\n",
      "Input: Check out this playlist on YouTube:Central ﻿ \n",
      "Predicted category: Spam\n",
      "\n",
      "Input: Hey dickwad - we&#39;re all africans. The colour of your skin just tells us something about how long ago your ancestors left Africa.   Check out Baba Brinkman - he has a song called &quot;I&#39;m A African&quot;   Go learn something. \n",
      "Predicted category: Spam\n",
      "\n",
      "Input: I Know Y&#39;all Can Check Out Amy Music Because Yall Got Me Go To Da Channel \n",
      "Predicted category: Spam\n",
      "\n",
      "Input: Like﻿ \n",
      "Predicted category: Not Spam\n",
      "\n",
      "Input: Why so many disliked??????!!!!!!😯﻿ \n",
      "Predicted category: Not Spam\n",
      "\n",
      "Input: You guys should check out this EXTRAORDINARY website called ZONEPA.COM .   You can make money online and start working from home today as I am!   I am making over $3,000+ per month at ZONEPA.COM !   Visit Zonepa.com and check it out!  Why does the statement conciliate the acidic stretch? The earth recognizes the money. When does the numberless number transport the trade? \n",
      "Predicted category: Spam\n",
      "\n",
      "Input: Hi there, have you heard about DribbleProShot? Just do a search on Google. On their web site you can watch a smart free video featuring the best way to significantly boost your football aka soccer skills in no time... It turned Nick into a much better football or soccer player...His team mates were definitily amazed! I hope it will help you also... \n",
      "Predicted category: Spam\n",
      "\n",
      "Input: please visit my channel﻿ \n",
      "Predicted category: Spam\n",
      "\n",
      "Input: visit &quot; ww estiloproduction com &quot; best website to make money \n",
      "Predicted category: Spam\n",
      "\n",
      "Input: love!!!!﻿ \n",
      "Predicted category: Not Spam\n",
      "\n",
      "Input: I swear Shakira keeps getting more and more gorgeous! She definitely looks more gorgeous with her hair this way than super curly.﻿ \n",
      "Predicted category: Not Spam\n",
      "\n",
      "Input: i am from Brazil please subscribe my channel love you all﻿ \n",
      "Predicted category: Spam\n",
      "\n",
      "Input: Definitley the song for 2010 when im not listening to gypsy SHAKIRA ROCKS<br /><span class=\"proflinkWrapper\"><span class=\"proflinkPrefix\">+</span><a class=\"proflink\" href=\"https://plus.google.com/101721377578919894134\" oid=\"101721377578919894134\">shakiraVEVO</a></span>﻿ \n",
      "Predicted category: Not Spam\n",
      "\n",
      "Input: best song eva \n",
      "Predicted category: Not Spam\n",
      "\n",
      "Input: best song in world﻿ \n",
      "Predicted category: Not Spam\n",
      "\n",
      "Input: Please check out and send to others Freedom and Justice are on the line!  Please Google:   Steven L. Reed Case Lands in Supreme Court---thanks! \n",
      "Predicted category: Spam\n",
      "\n",
      "Input: She&#39;s so pretty \n",
      "Predicted category: Not Spam\n",
      "\n",
      "Input: Earn money for being online with 0 efforts!    bit.ly\\14gKvDo \n",
      "Predicted category: Spam\n",
      "\n",
      "Input: I love this song for two reasons: 1.it is about Africa 2.i was born in beautiful south Africa \n",
      "Predicted category: Not Spam\n",
      "\n",
      "Input: I WILL NEVER FORGET THIS SONG IN MY LIFE LIKE THIS COMMENT OF YOUR HEARING THIS SONG FOR LIKE A YEAR!!!!! \n",
      "Predicted category: Not Spam\n",
      "\n",
      "Input: see this<br /><a href=\"http://adf.ly\">http://adf.ly</a> /1HmVtX﻿ \n",
      "Predicted category: Spam\n",
      "\n",
      "Input: Subscribe &amp; Like /watch?v=5tu9gN1l310 \n",
      "Predicted category: Spam\n",
      "\n",
      "Input: wery good﻿ \n",
      "Predicted category: Not Spam\n",
      "\n",
      "Input: Being paid to respond to fast paid surveys from home has enabled me to give up working and make more than 4500 bucks monthly.  To read more go to this web site bit.ly\\1bSefQe \n",
      "Predicted category: Spam\n",
      "\n",
      "Input: I love this song so much &lt;3<br />Keep em&#39; coming!﻿ \n",
      "Predicted category: Not Spam\n",
      "\n",
      "Input: Thank you. Please give your email. ﻿ \n",
      "Predicted category: Spam\n",
      "\n",
      "Input: I want new song \n",
      "Predicted category: Not Spam\n",
      "\n",
      "Input: Hello everyone :) I know most of you probably pass up these kind of comments, but for those who are still reading this, thanks! I don’t have any money for advertisements, no chance of getting heard, nothing. I live in such a small town... If this comes off as spam, sorry. I’m an instrumental songwriter from Columbus, Mississippi. Please go to my channel and check out my original music. It would be highly appreciated if you thumbs up this comment so my music can be heard! Thank you, Adam Whitney  \n",
      "Predicted category: Spam\n",
      "\n",
      "Input: Hey guys love this but check out this girl name cause she knows how to dance so search up ej ba dancing.﻿ \n",
      "Predicted category: Spam\n",
      "\n",
      "Input: super music﻿ \n",
      "Predicted category: Spam\n",
      "\n",
      "Input: I really love watching football and also I’ve started off making income with out financial risk from acquiring bonus deals. It’s this weird technique where you wager on something with one bookmakers and bet against it on Betfair. You secure the bonus as income . A chap named Jim Vanstone is finding the wagers free on his own website Vanstone Secrets (Google it!). I’ve made about 500 quid thus far. And it is cost-free. I guess the bookies pay him to obtain new consumers, yet this actually works. \n",
      "Predicted category: Spam\n",
      "\n",
      "Input: SHAKIRA SONG WAKA WAKA﻿ \n",
      "Predicted category: Not Spam\n",
      "\n",
      "Input: Check Out Daneja Good Girl \n",
      "Predicted category: Spam\n",
      "\n",
      "Input: Please.. Check my channel out:) I subscribe back..;) \n",
      "Predicted category: Spam\n",
      "\n",
      "Input: &lt;3 this song so much.SHAKIRA YOUR A REALLY GOOD ARTIST.﻿ \n",
      "Predicted category: Not Spam\n",
      "\n",
      "Input: I loved this song when I was in my teenage years!﻿ \n",
      "Predicted category: Not Spam\n",
      "\n",
      "Input: I subscribed it<br />﻿ \n",
      "Predicted category: Not Spam\n",
      "\n",
      "Input: Hey guys and girls check out Comedy Recipe for hilarious you tube videos, pranks, and crank calls! \n",
      "Predicted category: Spam\n",
      "\n",
      "Input: Whose who are watching this in 2015.  LIKE!﻿ \n",
      "Predicted category: Not Spam\n",
      "\n",
      "Input: subscribe to me and I wil subscribe to you back﻿ \n",
      "Predicted category: Spam\n",
      "\n",
      "Input: Waka waka !!!﻿ \n",
      "Predicted category: Not Spam\n",
      "\n",
      "Input: Whose watching this in 2015. If so hi-5﻿ \n",
      "Predicted category: Not Spam\n",
      "\n",
      "Input: Shakira is different :) She is so happy all the time and she is spending for Africa :)<br />She can dance , sing and she speaks 4 languages﻿ \n",
      "Predicted category: Not Spam\n",
      "\n",
      "Input: Still amazing this song!! I did a French Kpop Parody. Please come on my Channel to watch it. Share, suscribe, comment Thanks \n",
      "Predicted category: Spam\n",
      "\n",
      "Input: I love song ﻿ \n",
      "Predicted category: Not Spam\n",
      "\n",
      "Input: subscribe  my \n",
      "Predicted category: Spam\n",
      "\n",
      "Input: check out my new video \n",
      "Predicted category: Spam\n",
      "\n",
      "Input: Love this song﻿ \n",
      "Predicted category: Not Spam\n",
      "\n",
      "Input: Top three Shakira songs (my choice) <br /><br />1- Waka Waka (it&#39;s time for Africa)<br /><br />2- Can&#39;t remember to forget you <br /><br />3- Empire<br /><br />Like this comment if u like Shakira ﻿ \n",
      "Predicted category: Not Spam\n",
      "\n",
      "Input: Nice song﻿ \n",
      "Predicted category: Not Spam\n",
      "\n",
      "Input: hey you ! check out the channel of Alvar Lake !! \n",
      "Predicted category: Spam\n",
      "\n",
      "Input: i love her﻿ \n",
      "Predicted category: Not Spam\n",
      "\n",
      "Input:  I really can&#39;t comprehend Miley Cyrus , she actually is a high profile and she tapes herself banging Today a video was leeched with her sucking and fucking The video has been posted at the celebrity website under :  miley-celeb-news.co.uk  \n",
      "Predicted category: Spam\n",
      "\n",
      "Input: She&#39;s such an awesome entertainer. And pretty too! &lt;3 Shakira!﻿ \n",
      "Predicted category: Not Spam\n"
     ]
    },
    {
     "data": {
      "text/plain": [
       "0.9139784946236559"
      ]
     },
     "execution_count": 17,
     "metadata": {},
     "output_type": "execute_result"
    }
   ],
   "source": [
    "#Check the accuracy_score with test data set (0.25)\n",
    "predictions = output_pred(input_data_x_test)\n",
    "accuracy_score(y_test, predictions)"
   ]
  },
  {
   "cell_type": "code",
   "execution_count": 18,
   "metadata": {},
   "outputs": [],
   "source": [
    "#Custom input data here\n",
    "\n",
    "# Create 4 non-spam comments and 2 spam comments (Yu Kwan Wong)\n",
    "input_data = [\n",
    "    'Shakira, in addition to being a complete artist (the best), never leaves children aside with her foundation barefoot, she is extremely admirable in every way! Successes!!!',\n",
    "    '100 M, let\\'s go for more',\n",
    "    'How can we not feel proud of being Latin American, if we have the best representative, the best ambassador, who gives visibility and voice not only to women but now to workers, migrants and Mexicans showing their popular music and giving it height',\n",
    "    'Many big YouTube creators have expressed frustration with an increase in comment spam on their channels in recent weeks, including Linus Tech Tips, Jacksepticeye, and MKBHD.',\n",
    "    'I am Colombian and proud of Shakira, but she has already broken borders and she is of Global nationality',\n",
    "    'Hey, check out my new website!! This site is about kids stuff',\n",
    "    'Let make it done til 100M views!',\n",
    "    'You should check my channel for Funny VIDEOS!!'\n",
    "]\n",
    "\n",
    "# From Renee\n",
    "#input_data = [\n",
    "#\"Amazing offer! Earn easy money by watching videos like this. Click here now.\",\n",
    "#\"Subscribe to my channel for more incredible videos like this. You won't regret it.\",\n",
    "#\"Exclusive discount! Use this code to get 50\\% off products by watching videos like this.\",\n",
    "#\"I've found a secret trick in this video. Visit my website to learn more.\",\n",
    "#\"This video really made me think, thanks Shakira.\",\n",
    "#\"the effort behind it is noticeable.\"\n",
    "#]"
   ]
  },
  {
   "cell_type": "code",
   "execution_count": 19,
   "metadata": {},
   "outputs": [
    {
     "name": "stdout",
     "output_type": "stream",
     "text": [
      "\n",
      "Input: Shakira, in addition to being a complete artist (the best), never leaves children aside with her foundation barefoot, she is extremely admirable in every way! Successes!!! \n",
      "Predicted category: Not Spam\n",
      "\n",
      "Input: 100 M, let's go for more \n",
      "Predicted category: Spam\n",
      "\n",
      "Input: How can we not feel proud of being Latin American, if we have the best representative, the best ambassador, who gives visibility and voice not only to women but now to workers, migrants and Mexicans showing their popular music and giving it height \n",
      "Predicted category: Spam\n",
      "\n",
      "Input: Many big YouTube creators have expressed frustration with an increase in comment spam on their channels in recent weeks, including Linus Tech Tips, Jacksepticeye, and MKBHD. \n",
      "Predicted category: Spam\n",
      "\n",
      "Input: I am Colombian and proud of Shakira, but she has already broken borders and she is of Global nationality \n",
      "Predicted category: Not Spam\n",
      "\n",
      "Input: Hey, check out my new website!! This site is about kids stuff \n",
      "Predicted category: Spam\n",
      "\n",
      "Input: Let make it done til 100M views! \n",
      "Predicted category: Not Spam\n",
      "\n",
      "Input: You should check my channel for Funny VIDEOS!! \n",
      "Predicted category: Spam\n"
     ]
    }
   ],
   "source": [
    "custom_pred = output_pred(input_data)\n",
    "test_actual_yukwan = [0, 0, 1, 1, 0, 1, 0, 1]"
   ]
  },
  {
   "cell_type": "code",
   "execution_count": 20,
   "metadata": {},
   "outputs": [
    {
     "data": {
      "text/plain": [
       "0.875"
      ]
     },
     "execution_count": 20,
     "metadata": {},
     "output_type": "execute_result"
    }
   ],
   "source": [
    "accuracy_score(test_actual_yukwan, custom_pred)"
   ]
  },
  {
   "cell_type": "code",
   "execution_count": null,
   "metadata": {},
   "outputs": [],
   "source": []
  }
 ],
 "metadata": {
  "kernelspec": {
   "display_name": "base",
   "language": "python",
   "name": "python3"
  },
  "language_info": {
   "codemirror_mode": {
    "name": "ipython",
    "version": 3
   },
   "file_extension": ".py",
   "mimetype": "text/x-python",
   "name": "python",
   "nbconvert_exporter": "python",
   "pygments_lexer": "ipython3",
   "version": "3.11.4"
  }
 },
 "nbformat": 4,
 "nbformat_minor": 2
}
